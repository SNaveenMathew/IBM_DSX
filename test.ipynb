{
    "cells": [
        {
            "cell_type": "code", 
            "source": "sc.parallelize([1,2,3]).count()", 
            "execution_count": 1, 
            "metadata": {}, 
            "outputs": [
                {
                    "output_type": "execute_result", 
                    "metadata": {}, 
                    "execution_count": 1, 
                    "data": {
                        "text/plain": "3"
                    }
                }
            ]
        }, 
        {
            "cell_type": "code", 
            "source": "from numpy import array\na = array([[1,2,3],[7,8,9]])\nb = array([4,5,6])\n\na.dot(b)", 
            "execution_count": 2, 
            "metadata": {}, 
            "outputs": [
                {
                    "output_type": "execute_result", 
                    "metadata": {}, 
                    "execution_count": 2, 
                    "data": {
                        "text/plain": "32"
                    }
                }
            ]
        }
    ], 
    "nbformat_minor": 1, 
    "metadata": {
        "kernelspec": {
            "language": "python", 
            "name": "python2-spark21", 
            "display_name": "Python 2 with Spark 2.1"
        }, 
        "language_info": {
            "pygments_lexer": "ipython2", 
            "nbconvert_exporter": "python", 
            "mimetype": "text/x-python", 
            "name": "python", 
            "version": "2.7.11", 
            "file_extension": ".py", 
            "codemirror_mode": {
                "version": 2, 
                "name": "ipython"
            }
        }
    }, 
    "nbformat": 4
}