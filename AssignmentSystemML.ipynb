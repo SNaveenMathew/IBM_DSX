{
    "nbformat_minor": 1, 
    "cells": [
        {
            "source": "# Assignment 4\n## Understaning scaling of linear algebra operations on Apache Spark using Apache SystemML\n\nIn this assignment we want you to understand how to scale linear algebra operations from a single machine to multiple machines, memory and CPU cores using Apache SystemML. Therefore we want you to understand how to migrate from a numpy program to a SystemML DML program. Don't worry. We will give you a lot of hints. Finally, you won't need this knowledge anyways if you are sticking to Keras only, but once you go beyond that point you'll be happy to see what's going on behind the scenes. As usual, we run some import statements:", 
            "cell_type": "markdown", 
            "metadata": {}
        }, 
        {
            "execution_count": 1, 
            "cell_type": "code", 
            "outputs": [], 
            "source": "from systemml import MLContext, dml\nimport numpy as np\nimport time", 
            "metadata": {}
        }, 
        {
            "source": "Then we create an MLContext to interface with Apache SystemML. Note that we pass a SparkSession object as parameter so SystemML now knows how to talk to the Apache Spark cluster", 
            "cell_type": "markdown", 
            "metadata": {}
        }, 
        {
            "execution_count": 2, 
            "cell_type": "code", 
            "outputs": [], 
            "source": "ml = MLContext(spark)", 
            "metadata": {}
        }, 
        {
            "source": "Now we create some large random matrices to have numpy and SystemML crunch on it", 
            "cell_type": "markdown", 
            "metadata": {}
        }, 
        {
            "execution_count": 3, 
            "cell_type": "code", 
            "outputs": [], 
            "source": "u = np.random.rand(1000,10000)\ns = np.random.rand(10000,1000)\nw = np.random.rand(1000,1000)", 
            "metadata": {}
        }, 
        {
            "source": "Now we implement a short one-liner to define a very simple linear algebra operation\n\nsum(U' * (W . (U * S)))\n\n\n| Legend        |            |   \n| ------------- |-------------| \n| '      | transpose of a matrix | \n| * | matrix-matrix multiplication      |  \n| . | scala multiplication      |   \n\n", 
            "cell_type": "markdown", 
            "metadata": {}
        }, 
        {
            "execution_count": 4, 
            "cell_type": "code", 
            "outputs": [
                {
                    "output_type": "stream", 
                    "name": "stdout", 
                    "text": "1.36204719543\n"
                }
            ], 
            "source": "start = time.time()\nres = np.sum(u.T.dot(w * u.dot(s)))\nprint time.time()-start", 
            "metadata": {}
        }, 
        {
            "source": "As you can see this executes perfectly fine. Note that this is even a very efficient execution because numpy uses a C/C++ backend which is known for it's performance. But what happens if U, S or W get such big that the available main memory cannot cope with it? Let's give it a try:", 
            "cell_type": "markdown", 
            "metadata": {}
        }, 
        {
            "execution_count": 5, 
            "cell_type": "code", 
            "outputs": [], 
            "source": "u = np.random.rand(10000,100000)\ns = np.random.rand(100000,10000)\nw = np.random.rand(10000,10000)", 
            "metadata": {}
        }, 
        {
            "source": "After a short while you should see a memory error. This is because the operating system process was not able to allocate enough memory for storing the numpy array on the heap. Now it's time to re-implement the very same operations as DML in SystemML, and this is your task. Just replace all ###your_code_goes_here sections with proper code, please consider the following table which contains all DML syntax you need:\n\n| Syntax        |            |   \n| ------------- |-------------| \n| t(M)      | transpose of a matrix, where M is the matrix | \n| * | matrix-matrix multiplication      |  \n| . | scala multiplication      |   \n\n## Task", 
            "cell_type": "markdown", 
            "metadata": {}
        }, 
        {
            "execution_count": 13, 
            "cell_type": "code", 
            "outputs": [], 
            "source": "script = \"\"\"\nres = sum(t(U) %*% (W * (U %*% S)))\n\"\"\"", 
            "metadata": {}
        }, 
        {
            "source": "To get consistent results we switch from a random matrix initialization to something deterministic", 
            "cell_type": "markdown", 
            "metadata": {}
        }, 
        {
            "execution_count": 14, 
            "cell_type": "code", 
            "outputs": [], 
            "source": "u = np.arange(100000).reshape((100, 1000))\ns = np.arange(100000).reshape((1000, 100))\nw = np.arange(10000).reshape((100, 100))", 
            "metadata": {}
        }, 
        {
            "execution_count": 12, 
            "cell_type": "code", 
            "outputs": [
                {
                    "output_type": "stream", 
                    "name": "stdout", 
                    "text": "(100, 1000)\n(1000, 100)\n(100, 100)\n"
                }
            ], 
            "source": "print u.shape\nprint s.shape\nprint w.shape", 
            "metadata": {}
        }, 
        {
            "execution_count": 15, 
            "cell_type": "code", 
            "outputs": [
                {
                    "output_type": "stream", 
                    "name": "stdout", 
                    "text": "1.25260525922e+28\n"
                }
            ], 
            "source": "prog = dml(script).input('U', u).input('S', s).input('W', w).output('res')\nres = ml.execute(prog).get('res')\nprint res", 
            "metadata": {}
        }, 
        {
            "source": "If everything runs fine you should get *1.25260525922e+28* as result. Feel free to submit your DML script to the grader now!\n\n### Submission", 
            "cell_type": "markdown", 
            "metadata": {}
        }, 
        {
            "execution_count": null, 
            "cell_type": "code", 
            "outputs": [], 
            "source": "!rm -f rklib.py\n!wget https://raw.githubusercontent.com/romeokienzler/developerWorks/master/coursera/ai/rklib.py", 
            "metadata": {}
        }, 
        {
            "execution_count": 16, 
            "cell_type": "code", 
            "outputs": [
                {
                    "output_type": "stream", 
                    "name": "stdout", 
                    "text": "Submission successful, please check on the coursera grader page for the status\n"
                }
            ], 
            "source": "from rklib import submit\nkey = \"esRk7vn-Eeej-BLTuYzd0g\"\npart = \"fUxc8\"\n\nemail = \"pg13s_nathan@mandevian.com\"\nsecret = \"3r4aekpO3TTItd7O\"\nsubmit(email, secret, key, part, [part], script)", 
            "metadata": {}
        }
    ], 
    "nbformat": 4, 
    "metadata": {
        "kernelspec": {
            "display_name": "Python 2 with Spark 2.1", 
            "name": "python2-spark21", 
            "language": "python"
        }, 
        "language_info": {
            "mimetype": "text/x-python", 
            "nbconvert_exporter": "python", 
            "pygments_lexer": "ipython2", 
            "name": "python", 
            "file_extension": ".py", 
            "version": "2.7.11", 
            "codemirror_mode": {
                "version": 2, 
                "name": "ipython"
            }
        }
    }
}