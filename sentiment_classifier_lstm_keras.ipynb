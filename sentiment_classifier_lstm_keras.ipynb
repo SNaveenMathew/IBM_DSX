{
    "nbformat": 4, 
    "cells": [
        {
            "execution_count": 1, 
            "cell_type": "code", 
            "metadata": {}, 
            "source": "from keras.preprocessing import sequence\nfrom keras.models import Sequential\nfrom keras.layers import Dense, Embedding, LSTM\nfrom keras.datasets import imdb", 
            "outputs": []
        }, 
        {
            "execution_count": 3, 
            "cell_type": "code", 
            "metadata": {}, 
            "source": "max_features = 2000\nmax_len = 80", 
            "outputs": []
        }, 
        {
            "execution_count": 5, 
            "cell_type": "code", 
            "metadata": {}, 
            "source": "(x_train, y_train), (x_test, y_test) = imdb.load_data(num_words = max_features)", 
            "outputs": []
        }, 
        {
            "execution_count": 6, 
            "cell_type": "code", 
            "metadata": {}, 
            "source": "x_train = sequence.pad_sequences(x_train, maxlen = max_len)\nx_test = sequence.pad_sequences(x_test, maxlen = max_len)", 
            "outputs": []
        }, 
        {
            "execution_count": 7, 
            "cell_type": "code", 
            "metadata": {}, 
            "source": "model = Sequential()\nmodel.add(Embedding(max_features, 128))\nmodel.add(LSTM(128, dropout = 0.2, recurrent_dropout = 0.2))\nmodel.add(Dense(1, activation = 'sigmoid'))", 
            "outputs": []
        }, 
        {
            "execution_count": null, 
            "cell_type": "code", 
            "metadata": {}, 
            "source": "model.compile(loss = 'binary_crossentropy',\n             optimizer = 'sgd',\n             metrics = ['accuracy'])\nmodel.fit(x_train, y_train, batch_size = 32, epochs = 15, validation_data = (x_test, y_test))\nmodel.evaluate(x_test, y_test, batch_size = 32)", 
            "outputs": [
                {
                    "name": "stdout", 
                    "output_type": "stream", 
                    "text": "Train on 25000 samples, validate on 25000 samples\nEpoch 1/15\n25000/25000 [==============================] - 167s - loss: 0.6932 - acc: 0.5042 - val_loss: 0.6930 - val_acc: 0.5087\nEpoch 2/15\n25000/25000 [==============================] - 162s - loss: 0.6929 - acc: 0.5136 - val_loss: 0.6928 - val_acc: 0.5283\nEpoch 3/15\n25000/25000 [==============================] - 161s - loss: 0.6927 - acc: 0.5224 - val_loss: 0.6926 - val_acc: 0.5302\nEpoch 4/15\n25000/25000 [==============================] - 159s - loss: 0.6924 - acc: 0.5258 - val_loss: 0.6923 - val_acc: 0.5464\nEpoch 5/15\n25000/25000 [==============================] - 159s - loss: 0.6921 - acc: 0.5312 - val_loss: 0.6923 - val_acc: 0.5019\nEpoch 6/15\n25000/25000 [==============================] - 159s - loss: 0.6919 - acc: 0.5427 - val_loss: 0.6918 - val_acc: 0.5672\nEpoch 7/15\n25000/25000 [==============================] - 160s - loss: 0.6916 - acc: 0.5570 - val_loss: 0.6915 - val_acc: 0.5546\nEpoch 8/15\n25000/25000 [==============================] - 159s - loss: 0.6912 - acc: 0.5428 - val_loss: 0.6911 - val_acc: 0.5521\nEpoch 9/15\n25000/25000 [==============================] - 159s - loss: 0.6908 - acc: 0.5534 - val_loss: 0.6906 - val_acc: 0.5776\nEpoch 10/15\n25000/25000 [==============================] - 158s - loss: 0.6902 - acc: 0.5664 - val_loss: 0.6902 - val_acc: 0.5517\nEpoch 11/15\n25000/25000 [==============================] - 158s - loss: 0.6897 - acc: 0.5770 - val_loss: 0.6895 - val_acc: 0.5699\nEpoch 12/15\n25000/25000 [==============================] - 158s - loss: 0.6889 - acc: 0.5736 - val_loss: 0.6888 - val_acc: 0.5581\nEpoch 13/15\n25000/25000 [==============================] - 158s - loss: 0.6879 - acc: 0.5874 - val_loss: 0.6876 - val_acc: 0.5903\nEpoch 14/15\n25000/25000 [==============================] - 157s - loss: 0.6866 - acc: 0.5891 - val_loss: 0.6861 - val_acc: 0.5925\nEpoch 15/15\n25000/25000 [==============================] - 157s - loss: 0.6846 - acc: 0.5994 - val_loss: 0.6837 - val_acc: 0.6019\n18624/25000 [=====================>........] - ETA: 8s"
                }
            ]
        }, 
        {
            "execution_count": null, 
            "cell_type": "code", 
            "metadata": {}, 
            "source": "", 
            "outputs": []
        }
    ], 
    "metadata": {
        "language_info": {
            "file_extension": ".py", 
            "codemirror_mode": {
                "version": 2, 
                "name": "ipython"
            }, 
            "nbconvert_exporter": "python", 
            "pygments_lexer": "ipython2", 
            "name": "python", 
            "mimetype": "text/x-python", 
            "version": "2.7.11"
        }, 
        "kernelspec": {
            "language": "python", 
            "display_name": "Python 2 with Spark 2.1", 
            "name": "python2-spark21"
        }
    }, 
    "nbformat_minor": 1
}