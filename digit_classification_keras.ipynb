{
    "cells": [
        {
            "cell_type": "code", 
            "source": "from keras.datasets import mnist\nfrom keras.utils import to_categorical\nfrom keras.models import Sequential\nfrom keras.layers import Dense, Dropout", 
            "execution_count": 1, 
            "metadata": {}, 
            "outputs": []
        }, 
        {
            "cell_type": "code", 
            "source": "batch_size = 128\nnum_classes = 10\nepochs = 20", 
            "execution_count": 3, 
            "metadata": {}, 
            "outputs": []
        }, 
        {
            "cell_type": "code", 
            "source": "(x_train, y_train), (x_test, y_test) = mnist.load_data()", 
            "execution_count": 10, 
            "metadata": {}, 
            "outputs": []
        }, 
        {
            "cell_type": "code", 
            "source": "x_train = x_train.reshape(60000, 784)\nx_test = x_test.reshape(10000, 784)\nx_train = x_train.astype('float32')\nx_test = x_test.astype('float32')\nx_train /= 255\nx_test /= 255\ny_train = to_categorical(y_train, num_classes)\ny_test = to_categorical(y_test, num_classes)\ny_train = y_train.reshape(60000, num_classes)\ny_test = y_test.reshape(10000, num_classes)", 
            "execution_count": 11, 
            "metadata": {}, 
            "outputs": []
        }, 
        {
            "cell_type": "code", 
            "source": "model = Sequential()\nmodel.add(Dense(512, activation = 'relu', input_shape = (784,)))\nmodel.add(Dropout(0.2))\nmodel.add(Dense(512, activation = 'relu'))\nmodel.add(Dropout(0.2))\nmodel.add(Dense(num_classes, activation = 'softmax'))\nmodel.summary()\nmodel.compile(loss = 'categorical_crossentropy',\n             optimizer = 'sgd',\n             metrics = ['accuracy'])", 
            "execution_count": 7, 
            "metadata": {}, 
            "outputs": [
                {
                    "output_type": "stream", 
                    "text": "_________________________________________________________________\nLayer (type)                 Output Shape              Param #   \n=================================================================\ndense_1 (Dense)              (None, 512)               401920    \n_________________________________________________________________\ndropout_1 (Dropout)          (None, 512)               0         \n_________________________________________________________________\ndense_2 (Dense)              (None, 512)               262656    \n_________________________________________________________________\ndropout_2 (Dropout)          (None, 512)               0         \n_________________________________________________________________\ndense_3 (Dense)              (None, 10)                5130      \n=================================================================\nTotal params: 669,706\nTrainable params: 669,706\nNon-trainable params: 0\n_________________________________________________________________\n", 
                    "name": "stdout"
                }
            ]
        }, 
        {
            "cell_type": "code", 
            "source": "model.fit(x_train, y_train, batch_size = batch_size, epochs = epochs, validation_data = (x_test, y_test))\nscore = model.evaluate(x_test, y_test, verbose = 0)\nprint('Test loss: ', score[0])\nprint('Test accuracy: ', score[1])", 
            "execution_count": null, 
            "metadata": {}, 
            "outputs": [
                {
                    "output_type": "stream", 
                    "text": "Train on 60000 samples, validate on 10000 samples\nEpoch 1/20\n60000/60000 [==============================] - 9s - loss: 1.2073 - acc: 0.6825 - val_loss: 0.5454 - val_acc: 0.8666\nEpoch 2/20\n60000/60000 [==============================] - 9s - loss: 0.5346 - acc: 0.8484 - val_loss: 0.3788 - val_acc: 0.9001\nEpoch 3/20\n60000/60000 [==============================] - 9s - loss: 0.4256 - acc: 0.8766 - val_loss: 0.3240 - val_acc: 0.9115\nEpoch 4/20\n60000/60000 [==============================] - 9s - loss: 0.3750 - acc: 0.8912 - val_loss: 0.2908 - val_acc: 0.9204\nEpoch 5/20\n60000/60000 [==============================] - 9s - loss: 0.3404 - acc: 0.9016 - val_loss: 0.2714 - val_acc: 0.9253\nEpoch 6/20\n60000/60000 [==============================] - 9s - loss: 0.3148 - acc: 0.9091 - val_loss: 0.2527 - val_acc: 0.9297\nEpoch 7/20\n60000/60000 [==============================] - 9s - loss: 0.2960 - acc: 0.9144 - val_loss: 0.2388 - val_acc: 0.9346\nEpoch 8/20\n60000/60000 [==============================] - 9s - loss: 0.2776 - acc: 0.9202 - val_loss: 0.2253 - val_acc: 0.9370\nEpoch 9/20\n60000/60000 [==============================] - 9s - loss: 0.2653 - acc: 0.9229 - val_loss: 0.2155 - val_acc: 0.9388\nEpoch 10/20\n60000/60000 [==============================] - 9s - loss: 0.2515 - acc: 0.9272 - val_loss: 0.2054 - val_acc: 0.9419\nEpoch 11/20\n60000/60000 [==============================] - 9s - loss: 0.2385 - acc: 0.9313 - val_loss: 0.1951 - val_acc: 0.9447\nEpoch 12/20\n60000/60000 [==============================] - 9s - loss: 0.2275 - acc: 0.9340 - val_loss: 0.1874 - val_acc: 0.9459\nEpoch 13/20\n60000/60000 [==============================] - 9s - loss: 0.2179 - acc: 0.9379 - val_loss: 0.1810 - val_acc: 0.9474\nEpoch 14/20\n60000/60000 [==============================] - 9s - loss: 0.2091 - acc: 0.9399 - val_loss: 0.1743 - val_acc: 0.9491\nEpoch 15/20\n60000/60000 [==============================] - 9s - loss: 0.2027 - acc: 0.9415 - val_loss: 0.1689 - val_acc: 0.9502\nEpoch 16/20\n60000/60000 [==============================] - 9s - loss: 0.1943 - acc: 0.9440 - val_loss: 0.1629 - val_acc: 0.9530\nEpoch 17/20\n60000/60000 [==============================] - 9s - loss: 0.1890 - acc: 0.9462 - val_loss: 0.1573 - val_acc: 0.9541\nEpoch 18/20\n27520/60000 [============>.................] - ETA: 4s - loss: 0.1858 - acc: 0.9462", 
                    "name": "stdout"
                }
            ]
        }
    ], 
    "nbformat_minor": 1, 
    "metadata": {
        "kernelspec": {
            "language": "python", 
            "name": "python2-spark21", 
            "display_name": "Python 2 with Spark 2.1"
        }, 
        "language_info": {
            "pygments_lexer": "ipython2", 
            "nbconvert_exporter": "python", 
            "mimetype": "text/x-python", 
            "name": "python", 
            "version": "2.7.11", 
            "file_extension": ".py", 
            "codemirror_mode": {
                "version": 2, 
                "name": "ipython"
            }
        }
    }, 
    "nbformat": 4
}